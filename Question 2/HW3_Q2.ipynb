{
 "cells": [
  {
   "cell_type": "code",
   "execution_count": 560,
   "metadata": {
    "collapsed": true
   },
   "outputs": [],
   "source": [
    "# Importing external libraries\n",
    "import numpy as np\n",
    "from sklearn.cluster import KMeans\n",
    "from matplotlib import pyplot as plt\n",
    "\n",
    "plt.close(\"all\")\n",
    "\n",
    "# TODO\n",
    "# import random\n",
    "# import math\n",
    "# from sklearn import preprocessing as pp"
   ]
  },
  {
   "cell_type": "code",
   "execution_count": 561,
   "metadata": {
    "collapsed": true
   },
   "outputs": [],
   "source": [
    "# input files\n",
    "doc_word_file = \"science2k-doc-word.npy\"\n",
    "word_doc_file = \"science2k-word-doc.npy\"\n",
    "vocab_file = \"science2k-vocab.txt\"\n",
    "title_file = \"science2k-titles.txt\""
   ]
  },
  {
   "cell_type": "code",
   "execution_count": 562,
   "metadata": {},
   "outputs": [],
   "source": [
    "def loadNumpyData(filename):\n",
    "\tdata = np.load(filename)\n",
    "\treturn data"
   ]
  },
  {
   "cell_type": "code",
   "execution_count": 563,
   "metadata": {
    "collapsed": true
   },
   "outputs": [],
   "source": [
    "def loadTextData(filename):\n",
    "    text_file = open(filename, \"r\")\n",
    "    lines = text_file.read().split(\"\\n\")\n",
    "    return lines[:-1]"
   ]
  },
  {
   "cell_type": "code",
   "execution_count": 564,
   "metadata": {},
   "outputs": [],
   "source": [
    "def runKMeans(question, data):\n",
    "    sum_squared_distances = {};\n",
    "    for k in range(1,21): \n",
    "        model = KMeans(n_clusters=k, init='k-means++').fit(data)\n",
    "#         Sum of squared distances of samples to their closest cluster center\n",
    "        sum_squared_distances[k] = model.inertia_\n",
    "    \n",
    "#     Plot figure\n",
    "    plt.figure(num=None, figsize=(10, 10), dpi=85, facecolor='w')\n",
    "    lists = sorted(sum_squared_distances.items())\n",
    "    x, y = zip(*lists)\n",
    "    plt.plot(x, y, marker='o')\n",
    "    ticks = list(range(1,21))\n",
    "    plt.xticks(ticks)\n",
    "    plt.xlabel('k')\n",
    "    plt.ylabel('Sum of Squared Distances')\n",
    "    plt.title(\"Sum of Squared Distances for K-means Clustering\")\n",
    "    plt.savefig(\"kmeans_plot_\" + question + \".png\")\n",
    "    plt.close()"
   ]
  },
  {
   "cell_type": "code",
   "execution_count": 565,
   "metadata": {},
   "outputs": [],
   "source": [
    "def findTopTen(data, ref):\n",
    "#     TODO: is this right\n",
    "    model = KMeans(n_clusters=8, init='k-means++').fit(data)\n",
    "    labels = model.predict(data)\n",
    "    distances = model.transform(data)\n",
    "    \n",
    "    print (ref[0])\n",
    "\n",
    "    top10 = {}\n",
    "    \n",
    "    for cluster in range(8) :\n",
    "        indices = [i for i, x in enumerate(labels) if x == cluster]\n",
    "        distance = distances[:,cluster]\n",
    "        rankedIndex = np.argsort(distance)[::]\n",
    "        topIndex = [index for index in rankedIndex if index in indices][:10]\n",
    "        top10[cluster + 1] = [ref[ind] for ind in topIndex]\n",
    "        \n",
    "    return top10"
   ]
  },
  {
   "cell_type": "code",
   "execution_count": 566,
   "metadata": {
    "scrolled": true
   },
   "outputs": [],
   "source": [
    "# load files\n",
    "doc_word = loadNumpyData(doc_word_file)\n",
    "word_doc = loadNumpyData(word_doc_file)\n",
    "titles = loadTextData(title_file)\n",
    "vocab = loadTextData(vocab_file)"
   ]
  },
  {
   "cell_type": "code",
   "execution_count": null,
   "metadata": {},
   "outputs": [],
   "source": [
    "# Analysis for finding value of k\n",
    "runKMeans(\"a\", doc_word)"
   ]
  },
  {
   "cell_type": "code",
   "execution_count": null,
   "metadata": {},
   "outputs": [],
   "source": [
    "# Finding documents closest to the centroids\n",
    "findTopTen(doc_word, titles)"
   ]
  },
  {
   "cell_type": "code",
   "execution_count": null,
   "metadata": {},
   "outputs": [],
   "source": [
    "# Analysis for finding value of k\n",
    "runKMeans(\"b\", word_doc)"
   ]
  },
  {
   "cell_type": "code",
   "execution_count": null,
   "metadata": {},
   "outputs": [],
   "source": [
    "# Finding terms closest to the centroids\n",
    "findTopTen(word_doc, vocab)"
   ]
  },
  {
   "cell_type": "code",
   "execution_count": null,
   "metadata": {
    "collapsed": true
   },
   "outputs": [],
   "source": []
  }
 ],
 "metadata": {
  "kernelspec": {
   "display_name": "Python 3",
   "language": "python",
   "name": "python3"
  },
  "language_info": {
   "codemirror_mode": {
    "name": "ipython",
    "version": 3
   },
   "file_extension": ".py",
   "mimetype": "text/x-python",
   "name": "python",
   "nbconvert_exporter": "python",
   "pygments_lexer": "ipython3",
   "version": "3.6.1"
  }
 },
 "nbformat": 4,
 "nbformat_minor": 2
}
