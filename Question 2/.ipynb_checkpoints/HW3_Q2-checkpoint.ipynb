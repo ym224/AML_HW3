{
 "cells": [
  {
   "cell_type": "code",
   "execution_count": 538,
   "metadata": {
    "collapsed": true
   },
   "outputs": [],
   "source": [
    "# Importing external libraries\n",
    "import numpy as np\n",
    "from sklearn.cluster import KMeans\n",
    "from matplotlib import pyplot as plt\n",
    "\n",
    "plt.close(\"all\")\n",
    "\n",
    "# TODO\n",
    "# import random\n",
    "# import math\n",
    "# from sklearn import preprocessing as pp"
   ]
  },
  {
   "cell_type": "code",
   "execution_count": 539,
   "metadata": {
    "collapsed": true
   },
   "outputs": [],
   "source": [
    "# input files\n",
    "doc_word_file = \"science2k-doc-word.npy\"\n",
    "word_doc_file = \"science2k-word-doc.npy\"\n",
    "vocab_file = \"science2k-vocab.txt\"\n",
    "title_file = \"science2k-titles.txt\""
   ]
  },
  {
   "cell_type": "code",
   "execution_count": 540,
   "metadata": {},
   "outputs": [],
   "source": [
    "def loadNumpyData(filename):\n",
    "\tdata = np.load(filename)\n",
    "\treturn data[:20]"
   ]
  },
  {
   "cell_type": "code",
   "execution_count": 541,
   "metadata": {
    "collapsed": true
   },
   "outputs": [],
   "source": [
    "def loadTextData(filename):\n",
    "    text_file = open(filename, \"r\")\n",
    "    lines = text_file.read().split(\"\\n\")\n",
    "    return lines[:-1]"
   ]
  },
  {
   "cell_type": "code",
   "execution_count": 542,
   "metadata": {},
   "outputs": [],
   "source": [
    "def runKMeans(question, data):\n",
    "    sum_squared_distances = {};\n",
    "    for k in range(1,21): \n",
    "        model = KMeans(n_clusters=k, init='k-means++').fit(data)\n",
    "#         Sum of squared distances of samples to their closest cluster center\n",
    "        sum_squared_distances[k] = model.inertia_\n",
    "    \n",
    "#     Plot figure\n",
    "    plt.figure(num=None, figsize=(10, 10), dpi=85, facecolor='w')\n",
    "    lists = sorted(sum_squared_distances.items())\n",
    "    x, y = zip(*lists)\n",
    "    plt.plot(x, y, marker='o')\n",
    "    ticks = list(range(1,21))\n",
    "    plt.xticks(ticks)\n",
    "    plt.xlabel('k')\n",
    "    plt.ylabel('Sum of Squared Distances')\n",
    "    plt.title(\"Sum of Squared Distances for K-means Clustering\")\n",
    "    plt.savefig(\"kmeans_plot_\" + question + \".png\")\n",
    "    plt.close()"
   ]
  },
  {
   "cell_type": "code",
   "execution_count": 543,
   "metadata": {},
   "outputs": [],
   "source": [
    "def findTopTen(data, ref):\n",
    "#     TODO: is this right\n",
    "    model = KMeans(n_clusters=8, init='k-means++').fit(data)\n",
    "    labels = model.predict(data)\n",
    "    distances = model.transform(data)\n",
    "    \n",
    "    print (ref[0])\n",
    "\n",
    "    top10 = {}\n",
    "    \n",
    "    for cluster in range(8) :\n",
    "        indices = [i for i, x in enumerate(labels) if x == cluster]\n",
    "        distance = distances[:,cluster]\n",
    "        rankedIndex = np.argsort(distance)[::]\n",
    "        topIndex = [index for index in rankedIndex if index in indices][:10]\n",
    "        top10[cluster + 1] = [ref[ind] for ind in topIndex]\n",
    "        \n",
    "    return top10"
   ]
  },
  {
   "cell_type": "code",
   "execution_count": 544,
   "metadata": {
    "scrolled": true
   },
   "outputs": [],
   "source": [
    "# load files\n",
    "doc_word = loadNumpyData(doc_word_file)\n",
    "word_doc = loadNumpyData(word_doc_file)\n",
    "titles = loadTextData(title_file)\n",
    "vocab = loadTextData(vocab_file)"
   ]
  },
  {
   "cell_type": "code",
   "execution_count": 545,
   "metadata": {},
   "outputs": [],
   "source": [
    "# Analysis for finding value of k\n",
    "runKMeans(\"a\", doc_word)"
   ]
  },
  {
   "cell_type": "code",
   "execution_count": 546,
   "metadata": {},
   "outputs": [
    {
     "name": "stdout",
     "output_type": "stream",
     "text": [
      "\"Archaeology in the Holy Land\"\n"
     ]
    },
    {
     "data": {
      "text/plain": [
       "{1: ['\"A Crushing End for Our Galaxy\"', '\"New Probe to Chart the Milky Way\"'],\n",
       " 2: ['\"Corrections and Clarifications: Commercialization of Genetic Research and Public Policy\"',\n",
       "  '\"Corrections and Clarifications: First-Principles Determination of Elastic Anisotrophy and Wave Velocities of MgO at Lower Mantle Conditions\"',\n",
       "  '\"Resistance to Bt Toxins\"'],\n",
       " 3: ['\"The Dark Halo of the Milky Way\"'],\n",
       " 4: ['\"The Galactic Center: An Interacting System of Unusual Sources\"'],\n",
       " 5: ['\"Structural Basis of Smad2 Recognition by the Smad Anchor for Receptor Activation\"'],\n",
       " 6: ['\"The Formation and Early Evolution of the Milky Way Galaxy\"'],\n",
       " 7: ['\"Archaeology in the Holy Land\"',\n",
       "  '\"Baedeker\\'s Guide, or Just Plain \\'Trouble\\'?\"',\n",
       "  '\"Will Tribal Knowledge Survive the Millennium?\"',\n",
       "  '\"Duchamp\\'s L.H.O.O.Q.-From 1919 or 1930?\"',\n",
       "  '\"Brane-Worlds\"',\n",
       "  '\"Charon\\'s First Detailed Spectra Hold Many Surprises\"',\n",
       "  '\"Reading the Worm Genome\"',\n",
       "  '\"Into the Lair of the Beast\"',\n",
       "  '\"Nota Bene: Sensing Old Age\"',\n",
       "  '\"Tracing the Origins of Salmonella Outbreaks\"'],\n",
       " 8: ['\"The Baryon Halo of the Milky Way: A Fossil Record of Its Formation\"']}"
      ]
     },
     "execution_count": 546,
     "metadata": {},
     "output_type": "execute_result"
    }
   ],
   "source": [
    "# Finding documents closest to the centroids\n",
    "findTopTen(doc_word, titles)"
   ]
  },
  {
   "cell_type": "code",
   "execution_count": 547,
   "metadata": {},
   "outputs": [],
   "source": [
    "# Analysis for finding value of k\n",
    "runKMeans(\"b\", word_doc)"
   ]
  },
  {
   "cell_type": "code",
   "execution_count": 548,
   "metadata": {},
   "outputs": [
    {
     "name": "stdout",
     "output_type": "stream",
     "text": [
      "\"Archaeology in the Holy Land\"\n"
     ]
    },
    {
     "data": {
      "text/plain": [
       "{1: ['\"Tracing the Origins of Salmonella Outbreaks\"'],\n",
       " 2: ['\"Corrections and Clarifications: Commercialization of Genetic Research and Public Policy\"',\n",
       "  '\"Nota Bene: Sensing Old Age\"',\n",
       "  '\"Reading the Worm Genome\"',\n",
       "  '\"A Crushing End for Our Galaxy\"',\n",
       "  '\"Duchamp\\'s L.H.O.O.Q.-From 1919 or 1930?\"',\n",
       "  '\"Charon\\'s First Detailed Spectra Hold Many Surprises\"',\n",
       "  '\"New Probe to Chart the Milky Way\"',\n",
       "  '\"Resistance to Bt Toxins\"',\n",
       "  '\"The Formation and Early Evolution of the Milky Way Galaxy\"',\n",
       "  '\"Will Tribal Knowledge Survive the Millennium?\"'],\n",
       " 3: ['\"Corrections and Clarifications: First-Principles Determination of Elastic Anisotrophy and Wave Velocities of MgO at Lower Mantle Conditions\"',\n",
       "  '\"Baedeker\\'s Guide, or Just Plain \\'Trouble\\'?\"'],\n",
       " 4: ['\"Archaeology in the Holy Land\"'],\n",
       " 5: ['\"The Baryon Halo of the Milky Way: A Fossil Record of Its Formation\"',\n",
       "  '\"Into the Lair of the Beast\"',\n",
       "  '\"Brane-Worlds\"'],\n",
       " 6: ['\"Structural Basis of Smad2 Recognition by the Smad Anchor for Receptor Activation\"'],\n",
       " 7: ['\"The Galactic Center: An Interacting System of Unusual Sources\"'],\n",
       " 8: ['\"The Dark Halo of the Milky Way\"']}"
      ]
     },
     "execution_count": 548,
     "metadata": {},
     "output_type": "execute_result"
    }
   ],
   "source": [
    "# Finding terms closest to the centroids\n",
    "findTopTen(word_doc, vocab)"
   ]
  },
  {
   "cell_type": "code",
   "execution_count": null,
   "metadata": {
    "collapsed": true
   },
   "outputs": [],
   "source": []
  }
 ],
 "metadata": {
  "kernelspec": {
   "display_name": "Python 3",
   "language": "python",
   "name": "python3"
  },
  "language_info": {
   "codemirror_mode": {
    "name": "ipython",
    "version": 3
   },
   "file_extension": ".py",
   "mimetype": "text/x-python",
   "name": "python",
   "nbconvert_exporter": "python",
   "pygments_lexer": "ipython3",
   "version": "3.6.1"
  }
 },
 "nbformat": 4,
 "nbformat_minor": 2
}
