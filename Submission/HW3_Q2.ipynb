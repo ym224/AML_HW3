{
 "cells": [
  {
   "cell_type": "code",
   "execution_count": 560,
   "metadata": {
    "collapsed": true
   },
   "outputs": [],
   "source": [
    "# Importing external libraries\n",
    "import numpy as np\n",
    "from sklearn.cluster import KMeans\n",
    "from matplotlib import pyplot as plt\n",
    "\n",
    "plt.close(\"all\")\n",
    "\n",
    "# TODO\n",
    "# import random\n",
    "# import math\n",
    "# from sklearn import preprocessing as pp"
   ]
  },
  {
   "cell_type": "code",
   "execution_count": 561,
   "metadata": {
    "collapsed": true
   },
   "outputs": [],
   "source": [
    "# input files\n",
    "doc_word_file = \"science2k-doc-word.npy\"\n",
    "word_doc_file = \"science2k-word-doc.npy\"\n",
    "vocab_file = \"science2k-vocab.txt\"\n",
    "title_file = \"science2k-titles.txt\""
   ]
  },
  {
   "cell_type": "code",
   "execution_count": 562,
   "metadata": {},
   "outputs": [],
   "source": [
    "def loadNumpyData(filename):\n",
    "\tdata = np.load(filename)\n",
    "\treturn data"
   ]
  },
  {
   "cell_type": "code",
   "execution_count": 563,
   "metadata": {
    "collapsed": true
   },
   "outputs": [],
   "source": [
    "def loadTextData(filename):\n",
    "    text_file = open(filename, \"r\")\n",
    "    lines = text_file.read().split(\"\\n\")\n",
    "    return lines[:-1]"
   ]
  },
  {
   "cell_type": "code",
   "execution_count": 564,
   "metadata": {},
   "outputs": [],
   "source": [
    "def runKMeans(question, data):\n",
    "    sum_squared_distances = {};\n",
    "    for k in range(1,21): \n",
    "        model = KMeans(n_clusters=k, init='k-means++').fit(data)\n",
    "#         Sum of squared distances of samples to their closest cluster center\n",
    "        sum_squared_distances[k] = model.inertia_\n",
    "    \n",
    "#     Plot figure\n",
    "    plt.figure(num=None, figsize=(10, 10), dpi=85, facecolor='w')\n",
    "    lists = sorted(sum_squared_distances.items())\n",
    "    x, y = zip(*lists)\n",
    "    plt.plot(x, y, marker='o')\n",
    "    ticks = list(range(1,21))\n",
    "    plt.xticks(ticks)\n",
    "    plt.xlabel('k')\n",
    "    plt.ylabel('Sum of Squared Distances')\n",
    "    plt.title(\"Sum of Squared Distances for K-means Clustering\")\n",
    "    plt.savefig(\"kmeans_plot_\" + question + \".png\")\n",
    "    plt.close()"
   ]
  },
  {
   "cell_type": "code",
   "execution_count": 565,
   "metadata": {},
   "outputs": [],
   "source": [
    "def findTopTen(data, ref):\n",
    "#     TODO: is this right\n",
    "    model = KMeans(n_clusters=8, init='k-means++').fit(data)\n",
    "    labels = model.predict(data)\n",
    "    distances = model.transform(data)\n",
    "    \n",
    "    print (ref[0])\n",
    "\n",
    "    top10 = {}\n",
    "    \n",
    "    for cluster in range(8) :\n",
    "        indices = [i for i, x in enumerate(labels) if x == cluster]\n",
    "        distance = distances[:,cluster]\n",
    "        rankedIndex = np.argsort(distance)[::]\n",
    "        topIndex = [index for index in rankedIndex if index in indices][:10]\n",
    "        top10[cluster + 1] = [ref[ind] for ind in topIndex]\n",
    "        \n",
    "    return top10"
   ]
  },
  {
   "cell_type": "code",
   "execution_count": 566,
   "metadata": {
    "scrolled": true
   },
   "outputs": [],
   "source": [
    "# load files\n",
    "doc_word = loadNumpyData(doc_word_file)\n",
    "word_doc = loadNumpyData(word_doc_file)\n",
    "titles = loadTextData(title_file)\n",
    "vocab = loadTextData(vocab_file)"
   ]
  },
  {
   "cell_type": "code",
   "execution_count": 567,
   "metadata": {},
   "outputs": [],
   "source": [
    "# Analysis for finding value of k\n",
    "runKMeans(\"a\", doc_word)"
   ]
  },
  {
   "cell_type": "code",
   "execution_count": null,
   "metadata": {},
   "outputs": [
    {
     "name": "stdout",
     "output_type": "stream",
     "text": [
      "\"Archaeology in the Holy Land\"\n"
     ]
    },
    {
     "data": {
      "text/plain": [
       "{1: ['\"Arabidopsis Comes of Age\"'],\n",
       " 2: ['\"Distinct Classes of Yeast Promoters Revealed by Differential TAF Recruitment\"',\n",
       "  '\"Efficient Initiation of HCV RNA Replication in Cell Culture\"',\n",
       "  '\"T Cell-Independent Rescue of B Lymphocytes from Peripheral Immune Tolerance\"',\n",
       "  '\"Reduced Food Intake and Body Weight in Mice Treated with Fatty Acid Synthase Inhibitors\"',\n",
       "  '\"Patterning of the Zebrafish Retina by a Wave of Sonic Hedgehog Activity\"',\n",
       "  '\"Coupling of Stress in the ER to Activation of JNK Protein Kinases by Transmembrane Protein Kinase IRE1\"',\n",
       "  '\"An Anti-Apoptotic Role for the p53 Family Member, p73, during Developmental Neuron Death\"',\n",
       "  '\"Disruption of Signaling by Yersinia Effector YopJ, a Ubiquitin-like Protein Protease\"',\n",
       "  '\"Identification of Synergistic Signals Initiating Inner Ear Development\"',\n",
       "  '\"Impaired Prion Replication in Spleens of Mice Lacking Functional Follicular Dendritic Cells\"'],\n",
       " 3: ['\"Structure of Yeast Poly(A) Polymerase Alone and in Complex with 3\\'-dATP\"',\n",
       "  '\"Selfish DNA in Protein-Coding Genes of Rickettsia\"',\n",
       "  '\"Structure of Murine CTLA-4 and Its Role in Modulating T Cell Responsiveness\"',\n",
       "  '\"Evidence for a High Frequency of Simultaneous Double-Nucleotide Substitutions\"',\n",
       "  '\"Bacterial Mode of Replication with Eukaryotic-Like Machinery in a Hyperthermophilic Archaeon\"',\n",
       "  '\"Candidate Taste Receptors in Drosophila\"',\n",
       "  '\"The Origins of Genomic Duplications in Arabidopsis\"',\n",
       "  '\"The Productive Conformation of Arachidonic Acid Bound to Prostaglandin Synthase\"',\n",
       "  '\"Role of 4.5S RNA in Assembly of the Bacterial Signal Recognition Particle with Its Receptor\"',\n",
       "  '\"Structure of the S15,S6,S18-rRNA Complex: Assembly of the 30S Ribosome Central Domain\"'],\n",
       " 4: ['\"A Stable Bicyclic Compound with Two Si=Si Double Bonds\"',\n",
       "  '\"A Cyclic Carbanionic Valence Isomer of a Carbocation: Diphosphino Analogs of Diaminocarbocations\"',\n",
       "  '\"Prospects for the Polymer Nanoengineer\"',\n",
       "  '\"High-Gain Harmonic-Generation Free-Electron Laser\"',\n",
       "  '\"A Light-Emitting Field-Effect Transistor\"',\n",
       "  '\"Anomalous Polarization Profiles in Sunspots: Possible Origin of Umbral Flashes\"',\n",
       "  '\"Spontaneous Ordering of Oxide Nanostructures\"',\n",
       "  '\"Dispersive Multiplexing in Multimode Optical Fiber\"',\n",
       "  '\"Tunable Resistance of a Carbon Nanotube-Graphite Interface\"',\n",
       "  '\"Triple Vortex Ring Structure in Superfluid Helium II\"'],\n",
       " 5: ['\"On a Slippery Slope to Mediocrity?\"',\n",
       "  '\"Malaria Researchers Wait for Industry to Join Fight\"',\n",
       "  '\"Stress: The Invisible Hand in Eastern Europe\\'s Death Rates\"',\n",
       "  '\"Africa Boosts AIDS Vaccine R&D\"',\n",
       "  '\"Simple Hosts May Help Reveal How Bacteria Infect Cells\"',\n",
       "  '\"Stephen Straus\\'s Impossible Job\"',\n",
       "  '\"Clinton\\'s Science Legacy: Ending on a High Note\"',\n",
       "  '\"A Renewed Assault on an Old and Deadly Foe\"',\n",
       "  '\"South Africa\\'s New Enemy\"',\n",
       "  '\"The Boom in Biosafety Labs\"'],\n",
       " 6: ['\"Reopening the Darkest Chapter in German Science\"',\n",
       "  '\"Algorithmic Gladiators Vie for Digital Glory\"',\n",
       "  '\"National Academy of Sciences Elects New Members\"',\n",
       "  '\"Corrections and Clarifications: Unearthing Monuments of the Yarmukians\"',\n",
       "  '\"Corrections and Clarifications: A Short Fe-Fe Distance in Peroxodiferric Ferritin: Control of Fe Substrate versus Cofactor Decay?\"',\n",
       "  '\"Corrections and Clarifications: Charon\\'s First Detailed Spectra Hold Many Surprises\"',\n",
       "  '\"Information Technology Takes a Different Tack\"',\n",
       "  '\"Archaeology in the Holy Land\"',\n",
       "  '\"Corrections and Clarifications: Marking Time for a Kingdom\"',\n",
       "  '\"Corrections and Clarifications: \\'Faster, Cheaper, Better\\' on Trial\"'],\n",
       " 7: ['\"Reconstruction of the Amazon Basin Effective Moisture Availability over the past 14,000 Years\"',\n",
       "  '\"Greenland Ice Sheet: High-Elevation Balance and Peripheral Thinning\"',\n",
       "  '\"Isotopic Evidence for Variations in the Marine Calcium Cycle over the Cenozoic\"',\n",
       "  '\"Mass Balance of the Greenland Ice Sheet at High Elevations\"',\n",
       "  '\"Rapid Kimberlite Ascent and the Significance of Ar-Ar Ages in Xenolith Phlogopites\"',\n",
       "  '\"Discovery of a High-Energy Gamma-Ray-Emitting Persistent Microquasar\"',\n",
       "  '\"Glacial Climate Instability\"',\n",
       "  '\"Variable Carbon Sinks\"',\n",
       "  '\"The Role of the Southern Ocean in Uptake and Storage of Anthropogenic Carbon Dioxide\"',\n",
       "  '\"Remobilization in the Cratonic Lithosphere Recorded in Polycrystalline Diamond\"'],\n",
       " 8: ['\"Movement Patterns in Spoken Language\"',\n",
       "  '\"Turning up the Heat on Histoplasma capsulatum\"',\n",
       "  '\"Thermal, Catalytic, Regiospecific Functionalization of Alkanes\"',\n",
       "  '\"The Holey Grail of General Intelligence\"',\n",
       "  '\"Influences of Dietary Uptake and Reactive Sulfides on Metal Bioavailability from Aquatic Sediments\"',\n",
       "  '\"Clues from a Shocked Meteorite\"',\n",
       "  '\"Is Bigger Better in Cricket?\"',\n",
       "  '\"How to Get along: Friendly Microbes in a Hostile World\"',\n",
       "  '\"Into the Forbidden Zone\"',\n",
       "  '\"Neutral, Single-Component Nickel (II) Polyolefin Catalysts That Tolerate Heteroatoms\"']}"
      ]
     },
     "execution_count": 568,
     "metadata": {},
     "output_type": "execute_result"
    }
   ],
   "source": [
    "# Finding documents closest to the centroids\n",
    "findTopTen(doc_word, titles)"
   ]
  },
  {
   "cell_type": "code",
   "execution_count": null,
   "metadata": {},
   "outputs": [],
   "source": [
    "# Analysis for finding value of k\n",
    "runKMeans(\"b\", word_doc)"
   ]
  },
  {
   "cell_type": "code",
   "execution_count": null,
   "metadata": {},
   "outputs": [],
   "source": [
    "# Finding terms closest to the centroids\n",
    "findTopTen(word_doc, vocab)"
   ]
  },
  {
   "cell_type": "code",
   "execution_count": null,
   "metadata": {
    "collapsed": true
   },
   "outputs": [],
   "source": []
  }
 ],
 "metadata": {
  "kernelspec": {
   "display_name": "Python 3",
   "language": "python",
   "name": "python3"
  },
  "language_info": {
   "codemirror_mode": {
    "name": "ipython",
    "version": 3
   },
   "file_extension": ".py",
   "mimetype": "text/x-python",
   "name": "python",
   "nbconvert_exporter": "python",
   "pygments_lexer": "ipython3",
   "version": "3.6.1"
  }
 },
 "nbformat": 4,
 "nbformat_minor": 2
}
